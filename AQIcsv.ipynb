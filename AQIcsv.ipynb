{
 "cells": [
  {
   "cell_type": "code",
   "execution_count": 1,
   "metadata": {},
   "outputs": [
    {
     "name": "stdout",
     "output_type": "stream",
     "text": [
      "Requirement already satisfied: requests in c:\\users\\nikit\\appdata\\local\\programs\\python\\python312\\lib\\site-packages (2.31.0)\n",
      "Requirement already satisfied: charset-normalizer<4,>=2 in c:\\users\\nikit\\appdata\\local\\programs\\python\\python312\\lib\\site-packages (from requests) (3.3.2)\n",
      "Requirement already satisfied: idna<4,>=2.5 in c:\\users\\nikit\\appdata\\local\\programs\\python\\python312\\lib\\site-packages (from requests) (3.6)\n",
      "Requirement already satisfied: urllib3<3,>=1.21.1 in c:\\users\\nikit\\appdata\\local\\programs\\python\\python312\\lib\\site-packages (from requests) (2.2.1)\n",
      "Requirement already satisfied: certifi>=2017.4.17 in c:\\users\\nikit\\appdata\\local\\programs\\python\\python312\\lib\\site-packages (from requests) (2024.2.2)\n",
      "Note: you may need to restart the kernel to use updated packages.\n"
     ]
    },
    {
     "name": "stderr",
     "output_type": "stream",
     "text": [
      "\n",
      "[notice] A new release of pip is available: 23.2.1 -> 24.0\n",
      "[notice] To update, run: python.exe -m pip install --upgrade pip\n"
     ]
    }
   ],
   "source": [
    "import csv\n",
    "%pip install requests\n",
    "import requests\n",
    "from config import API_KEY\n"
   ]
  },
  {
   "cell_type": "code",
   "execution_count": 2,
   "metadata": {},
   "outputs": [
    {
     "name": "stdout",
     "output_type": "stream",
     "text": [
      "CSV file has been created successfully.\n"
     ]
    },
    {
     "name": "stderr",
     "output_type": "stream",
     "text": [
      "C:\\Users\\nikit\\AppData\\Local\\Temp\\ipykernel_2124\\3981203312.py:47: DeprecationWarning: datetime.datetime.utcfromtimestamp() is deprecated and scheduled for removal in a future version. Use timezone-aware objects to represent datetimes in UTC: datetime.datetime.fromtimestamp(timestamp, datetime.UTC).\n",
      "  dt = datetime.utcfromtimestamp(item[\"dt\"])\n"
     ]
    }
   ],
   "source": [
    "import requests\n",
    "import csv\n",
    "from datetime import datetime\n",
    "\n",
    "# API endpoint\n",
    "url = \"https://api.openweathermap.org/data/2.5/air_pollution/history\"\n",
    "\n",
    "# Parameters\n",
    "params = {\n",
    "    \"lat\": 43.9068,\n",
    "    \"lon\": -78.8568,\n",
    "    \"start\": 1704085200,   #Jan 1,2024\n",
    "    \"end\": 1711166400,     #Mar 23,2024\n",
    "    \"appid\": API_KEY  # Use imported API key\n",
    "}\n",
    "\n",
    "# Make a GET request to the API\n",
    "response = requests.get(url, params=params)\n",
    "\n",
    "# Check if the request was successful (status code 200)\n",
    "if response.status_code == 200:\n",
    "    # Parse the response JSON data\n",
    "    try:\n",
    "        data = response.json()\n",
    "    except ValueError:\n",
    "        print(\"Error: Failed to parse JSON response\")\n",
    "        data = None\n",
    "\n",
    "    # Check if the response contains any data\n",
    "    if data:\n",
    "        # Specify the CSV file name\n",
    "        csv_file_name = \"air_pollution_data.csv\"\n",
    "\n",
    "        # Open the CSV file for writing\n",
    "        with open(csv_file_name, 'w', newline='') as csvfile:\n",
    "            # Specify the fieldnames for the CSV file\n",
    "            fieldnames = [\"dt\", \"main_aqi\", \"co\", \"no\", \"no2\", \"o3\", \"so2\", \"pm2_5\", \"pm10\", \"nh3\"]\n",
    "\n",
    "            writer = csv.DictWriter(csvfile, fieldnames=fieldnames)\n",
    "\n",
    "            # Write the header row\n",
    "            writer.writeheader()\n",
    "\n",
    "            # Write each item in the 'list' to the CSV file\n",
    "            for item in data['list']:\n",
    "                # Convert epoch time to normal date format\n",
    "                dt = datetime.utcfromtimestamp(item[\"dt\"])\n",
    "                \n",
    "\n",
    "                row = {\n",
    "                    \"dt\": dt.strftime('%Y-%m-%d %H:%M:%S'),\n",
    "                    \"main_aqi\": item[\"main\"][\"aqi\"],\n",
    "                    \"co\": item[\"components\"][\"co\"],\n",
    "                    \"no\": item[\"components\"][\"no\"],\n",
    "                    \"no2\": item[\"components\"][\"no2\"],\n",
    "                    \"o3\": item[\"components\"][\"o3\"],\n",
    "                    \"so2\": item[\"components\"][\"so2\"],\n",
    "                    \"pm2_5\": item[\"components\"][\"pm2_5\"],\n",
    "                    \"pm10\": item[\"components\"][\"pm10\"],\n",
    "                    \"nh3\": item[\"components\"][\"nh3\"]\n",
    "                }\n",
    "                writer.writerow(row)\n",
    "\n",
    "        print(\"CSV file has been created successfully.\")\n",
    "    else:\n",
    "        print(\"No data received from the API.\")\n",
    "else:\n",
    "    print(\"Failed to fetch data from the API. Status code:\", response.status_code)\n"
   ]
  }
 ],
 "metadata": {
  "kernelspec": {
   "display_name": "Python 3",
   "language": "python",
   "name": "python3"
  },
  "language_info": {
   "codemirror_mode": {
    "name": "ipython",
    "version": 3
   },
   "file_extension": ".py",
   "mimetype": "text/x-python",
   "name": "python",
   "nbconvert_exporter": "python",
   "pygments_lexer": "ipython3",
   "version": "3.12.1"
  }
 },
 "nbformat": 4,
 "nbformat_minor": 2
}
